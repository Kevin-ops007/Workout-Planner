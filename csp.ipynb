{
 "cells": [
  {
   "cell_type": "code",
   "execution_count": null,
   "metadata": {},
   "outputs": [],
   "source": []
  },
  {
   "cell_type": "code",
   "execution_count": 41,
   "metadata": {},
   "outputs": [],
   "source": [
    "class CSP:\n",
    "    def __init__(self, variables, domains, constraints, violations):\n",
    "        self.variables = variables\n",
    "        self.domains = domains\n",
    "        self.constraints = constraints\n",
    "        self.violations = violations\n",
    "\n",
    "    def init_assignment(self):\n",
    "        assignment = {var: None for var in self.variables}\n",
    "        return assignment\n",
    "\n",
    "    def is_consistent(self, assignment):\n",
    "        for constraint in self.constraints:\n",
    "            if not constraint(assignment):\n",
    "                return False\n",
    "        return True\n",
    "\n",
    "    def is_complete(self, assignment):\n",
    "        return all(assignment[var] is not None for var in self.variables)\n",
    "\n",
    "    def select_unassigned_variable(self, assignment):\n",
    "        for var in self.variables:\n",
    "            if assignment[var] is None:\n",
    "                return var\n",
    "\n",
    "def recursive_backtracking(csp, assignment):\n",
    "    if csp.is_complete(assignment):\n",
    "        return assignment\n",
    "\n",
    "    var = csp.select_unassigned_variable(assignment)\n",
    "    for value in csp.domains:\n",
    "        assignment[var] = value\n",
    "        if csp.is_consistent(assignment):\n",
    "            result = recursive_backtracking(csp, assignment)\n",
    "            if result is not None:\n",
    "                return result\n",
    "        assignment[var] = None\n",
    "\n",
    "    return None\n",
    "\n",
    "def unary_constraint(var, violations):\n",
    "    return lambda asmt: asmt[var] not in violations\n",
    "\n",
    "def binary_constraint(var_pair, violations):\n",
    "    (var1, var2) = var_pair\n",
    "    return lambda asmt: (asmt[var1], asmt[var2]) not in violations\n",
    "\n",
    "def nary_constraint(var_list, violations):\n",
    "    return lambda asmt: tuple(asmt[var] for var in var_list) not in violations"
   ]
  },
  {
   "cell_type": "code",
   "execution_count": 43,
   "metadata": {},
   "outputs": [
    {
     "name": "stdout",
     "output_type": "stream",
     "text": [
      "{'WA': 'red', 'NT': 'green', 'Q': 'red', 'NSW': 'green', 'V': 'red', 'SA': 'blue', 'T': 'green'}\n"
     ]
    }
   ],
   "source": [
    "variables = ['WA', 'NT', 'Q', 'NSW', 'V', 'SA', 'T']\n",
    "domains = ['red', 'green', 'blue']\n",
    "constraints = []\n",
    "violations = [('red', 'red'), ('green', 'green'), ('blue', 'blue')]\n",
    "\n",
    "csp = CSP(variables, domains, constraints, violations)\n",
    "\n",
    "for (var1, var2) in [('WA', 'NT'), ('WA', 'SA'),\n",
    "                    ('NT', 'SA'), ('NT', 'Q'),\n",
    "                    ('SA', 'Q'), ('SA', 'NSW'),\n",
    "                    ('SA', 'V'),('Q', 'NSW'),\n",
    "                    ('V', 'T')]:\n",
    "    csp.constraints.append(binary_constraint((var1, var2), violations))\n",
    "\n",
    "csp.constraints.append(unary_constraint('WA', ('green', 'blue')))\n",
    "\n",
    "asmt = csp.init_assignment()\n",
    "result = recursive_backtracking(csp, asmt)\n",
    "print(result)"
   ]
  }
 ],
 "metadata": {
  "kernelspec": {
   "display_name": "base",
   "language": "python",
   "name": "python3"
  },
  "language_info": {
   "codemirror_mode": {
    "name": "ipython",
    "version": 3
   },
   "file_extension": ".py",
   "mimetype": "text/x-python",
   "name": "python",
   "nbconvert_exporter": "python",
   "pygments_lexer": "ipython3",
   "version": "3.11.3"
  }
 },
 "nbformat": 4,
 "nbformat_minor": 2
}

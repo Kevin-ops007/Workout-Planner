{
  "cells": [
    {
      "cell_type": "code",
      "execution_count": 1,
      "metadata": {
        "id": "5-Ohczh0vaXm"
      },
      "outputs": [],
      "source": [
        "import pandas as pd"
      ]
    },
    {
      "cell_type": "code",
      "execution_count": 2,
      "metadata": {
        "colab": {
          "base_uri": "https://localhost:8080/",
          "height": 206
        },
        "id": "bUkpZIyQveSi",
        "outputId": "9d530714-eb70-4041-beed-86670e068ba4"
      },
      "outputs": [
        {
          "data": {
            "text/html": [
              "<div>\n",
              "<style scoped>\n",
              "    .dataframe tbody tr th:only-of-type {\n",
              "        vertical-align: middle;\n",
              "    }\n",
              "\n",
              "    .dataframe tbody tr th {\n",
              "        vertical-align: top;\n",
              "    }\n",
              "\n",
              "    .dataframe thead th {\n",
              "        text-align: right;\n",
              "    }\n",
              "</style>\n",
              "<table border=\"1\" class=\"dataframe\">\n",
              "  <thead>\n",
              "    <tr style=\"text-align: right;\">\n",
              "      <th></th>\n",
              "      <th>exercise</th>\n",
              "      <th>utility</th>\n",
              "      <th>mechanics</th>\n",
              "      <th>force</th>\n",
              "      <th>target_muscles</th>\n",
              "      <th>synergist_muscles</th>\n",
              "      <th>stabilizer_muscles</th>\n",
              "    </tr>\n",
              "  </thead>\n",
              "  <tbody>\n",
              "    <tr>\n",
              "      <th>0</th>\n",
              "      <td>Cable Neck Extension (with belt)</td>\n",
              "      <td>Basic or Auxiliary</td>\n",
              "      <td>Isolated</td>\n",
              "      <td>Pull</td>\n",
              "      <td>['Splenius']</td>\n",
              "      <td>['Trapezius, Upper', 'Levator Scapulae', 'Erec...</td>\n",
              "      <td>['Pectoralis Major, Sternal', 'Pectoralis Majo...</td>\n",
              "    </tr>\n",
              "    <tr>\n",
              "      <th>1</th>\n",
              "      <td>Cable Standing Overhead Crunch (multi-exercise...</td>\n",
              "      <td>Auxiliary</td>\n",
              "      <td>Isolated</td>\n",
              "      <td>Pull</td>\n",
              "      <td>['Rectus Abdominis']</td>\n",
              "      <td>['Obliques']</td>\n",
              "      <td>['Iliopsoas', 'Tensor Fasciae Latae', 'Rectus ...</td>\n",
              "    </tr>\n",
              "    <tr>\n",
              "      <th>2</th>\n",
              "      <td>Cable Standing Preacher Curl</td>\n",
              "      <td>Auxiliary</td>\n",
              "      <td>Isolated</td>\n",
              "      <td>Pull</td>\n",
              "      <td>['Brachialis']</td>\n",
              "      <td>['Biceps Brachii', 'Brachioradialis']</td>\n",
              "      <td>['Wrist Flexors']</td>\n",
              "    </tr>\n",
              "    <tr>\n",
              "      <th>3</th>\n",
              "      <td>Dumbbell Lying One Arm Rear Lateral Raise</td>\n",
              "      <td>Auxiliary</td>\n",
              "      <td>Isolated</td>\n",
              "      <td>Pull</td>\n",
              "      <td>['Deltoid, Posterior']</td>\n",
              "      <td>['Infraspinatus', 'Teres Minor', 'Supraspinatu...</td>\n",
              "      <td>['Flexor Carpi Radialis', 'Extensor Carpi Radi...</td>\n",
              "    </tr>\n",
              "    <tr>\n",
              "      <th>4</th>\n",
              "      <td>Single Leg Squat (with leg back)</td>\n",
              "      <td>Basic or Auxiliary</td>\n",
              "      <td>Compound</td>\n",
              "      <td>Push</td>\n",
              "      <td>['Gluteus Maximus']</td>\n",
              "      <td>['Quadriceps', 'Adductor Magnus', 'Soleus']</td>\n",
              "      <td>['Erector Spinae', 'Gluteus Medius', 'Gluteus ...</td>\n",
              "    </tr>\n",
              "  </tbody>\n",
              "</table>\n",
              "</div>"
            ],
            "text/plain": [
              "                                            exercise             utility  \\\n",
              "0                   Cable Neck Extension (with belt)  Basic or Auxiliary   \n",
              "1  Cable Standing Overhead Crunch (multi-exercise...           Auxiliary   \n",
              "2                       Cable Standing Preacher Curl           Auxiliary   \n",
              "3          Dumbbell Lying One Arm Rear Lateral Raise           Auxiliary   \n",
              "4                   Single Leg Squat (with leg back)  Basic or Auxiliary   \n",
              "\n",
              "  mechanics force          target_muscles  \\\n",
              "0  Isolated  Pull            ['Splenius']   \n",
              "1  Isolated  Pull    ['Rectus Abdominis']   \n",
              "2  Isolated  Pull          ['Brachialis']   \n",
              "3  Isolated  Pull  ['Deltoid, Posterior']   \n",
              "4  Compound  Push     ['Gluteus Maximus']   \n",
              "\n",
              "                                   synergist_muscles  \\\n",
              "0  ['Trapezius, Upper', 'Levator Scapulae', 'Erec...   \n",
              "1                                       ['Obliques']   \n",
              "2              ['Biceps Brachii', 'Brachioradialis']   \n",
              "3  ['Infraspinatus', 'Teres Minor', 'Supraspinatu...   \n",
              "4        ['Quadriceps', 'Adductor Magnus', 'Soleus']   \n",
              "\n",
              "                                  stabilizer_muscles  \n",
              "0  ['Pectoralis Major, Sternal', 'Pectoralis Majo...  \n",
              "1  ['Iliopsoas', 'Tensor Fasciae Latae', 'Rectus ...  \n",
              "2                                  ['Wrist Flexors']  \n",
              "3  ['Flexor Carpi Radialis', 'Extensor Carpi Radi...  \n",
              "4  ['Erector Spinae', 'Gluteus Medius', 'Gluteus ...  "
            ]
          },
          "execution_count": 2,
          "metadata": {},
          "output_type": "execute_result"
        }
      ],
      "source": [
        "exercises_df = pd.read_csv('https://raw.githubusercontent.com/bhavanvir/Workout-Planner/main/exrx.csv')\n",
        "exercises_df.head()"
      ]
    },
    {
      "cell_type": "code",
      "execution_count": 3,
      "metadata": {
        "colab": {
          "base_uri": "https://localhost:8080/"
        },
        "id": "gEjVXnpWvjzQ",
        "outputId": "5ecaf54a-aef3-4441-a330-5525a3562560"
      },
      "outputs": [
        {
          "name": "stdout",
          "output_type": "stream",
          "text": [
            "Pull            802\n",
            "Push            654\n",
            "Push & Pull       4\n",
            "Pull or Push      2\n",
            "Pull / Push       1\n",
            "Name: force, dtype: int64\n"
          ]
        }
      ],
      "source": [
        "force_counts = exercises_df['force'].value_counts()\n",
        "print(force_counts)"
      ]
    },
    {
      "cell_type": "code",
      "execution_count": 4,
      "metadata": {
        "colab": {
          "base_uri": "https://localhost:8080/",
          "height": 487
        },
        "id": "gOFxLNCHz7vn",
        "outputId": "f3c6c872-27a4-4c16-f892-570c0e743c32"
      },
      "outputs": [
        {
          "data": {
            "image/png": "[encoded data removed]",
            "text/plain": [
              "<Figure size 640x480 with 1 Axes>"
            ]
          },
          "metadata": {},
          "output_type": "display_data"
        }
      ],
      "source": [
        "import matplotlib.pyplot as plt\n",
        "\n",
        "muscles = exercises_df.explode('target_muscles')\n",
        "\n",
        "muscle_counts = muscles['target_muscles'].value_counts()\n",
        "\n",
        "top_n = 10\n",
        "top_muscles = muscle_counts.head(top_n)\n",
        "\n",
        "# Strip brackets from index labels\n",
        "top_muscles.index = top_muscles.index.str.strip(\"[]'\")\n",
        "\n",
        "plt.bar(top_muscles.index, top_muscles, color='purple')\n",
        "plt.title(f'Top {top_n} Muscles Targeted by Exercises')\n",
        "plt.xlabel('Muscle')\n",
        "plt.ylabel('Count')\n",
        "plt.xticks(rotation=45, ha='right')\n",
        "plt.tight_layout()\n",
        "plt.show()"
      ]
    },
    {
      "cell_type": "code",
      "execution_count": 5,
      "metadata": {
        "id": "9qTr21ypvaXn"
      },
      "outputs": [],
      "source": [
        "class CSP:\n",
        "    def __init__(self, variables, domains, constraints, violations):\n",
        "        self.variables = variables\n",
        "        self.domains = domains\n",
        "        self.constraints = constraints\n",
        "        self.violations = violations\n",
        "\n",
        "    def init_assignment(self):\n",
        "        assignment = {var: None for var in self.variables}\n",
        "        return assignment\n",
        "\n",
        "    def is_consistent(self, assignment):\n",
        "        for constraint in self.constraints:\n",
        "            if not constraint(assignment):\n",
        "                return False\n",
        "        return True\n",
        "\n",
        "    def is_complete(self, assignment):\n",
        "        return all(assignment[var] is not None for var in self.variables)\n",
        "\n",
        "    def select_unassigned_variable(self, assignment):\n",
        "        for var in self.variables:\n",
        "            if assignment[var] is None:\n",
        "                return var\n",
        "\n",
        "def recursive_backtracking(csp, assignment):\n",
        "    if csp.is_complete(assignment):\n",
        "        return assignment\n",
        "\n",
        "    var = csp.select_unassigned_variable(assignment)\n",
        "    for value in csp.domains:\n",
        "        assignment[var] = value\n",
        "        if csp.is_consistent(assignment):\n",
        "            result = recursive_backtracking(csp, assignment)\n",
        "            if result is not None:\n",
        "                return result\n",
        "        assignment[var] = None\n",
        "\n",
        "    return None\n",
        "\n",
        "def unary_constraint(var, violations):\n",
        "    return lambda asmt: asmt[var] not in violations\n",
        "\n",
        "def binary_constraint(var_pair, violations):\n",
        "    (var1, var2) = var_pair\n",
        "    return lambda asmt: (asmt[var1], asmt[var2]) not in violations\n",
        "\n",
        "def nary_constraint(var_list, violations):\n",
        "    return lambda asmt: tuple(asmt[var] for var in var_list) not in violations"
      ]
    },
    {
      "cell_type": "code",
      "execution_count": 6,
      "metadata": {
        "id": "ZYmUVgltvaXo",
        "outputId": "99dcdb25-9171-475a-ae50-9aa5c42d4796"
      },
      "outputs": [
        {
          "name": "stdout",
          "output_type": "stream",
          "text": [
            "{'WA': 'red', 'NT': 'green', 'Q': 'red', 'NSW': 'green', 'V': 'red', 'SA': 'blue', 'T': 'green'}\n"
          ]
        }
      ],
      "source": [
        "variables = ['WA', 'NT', 'Q', 'NSW', 'V', 'SA', 'T']\n",
        "domains = ['red', 'green', 'blue']\n",
        "constraints = []\n",
        "violations = [('red', 'red'), ('green', 'green'), ('blue', 'blue')]\n",
        "\n",
        "csp = CSP(variables, domains, constraints, violations)\n",
        "\n",
        "for (var1, var2) in [('WA', 'NT'), ('WA', 'SA'),\n",
        "                    ('NT', 'SA'), ('NT', 'Q'),\n",
        "                    ('SA', 'Q'), ('SA', 'NSW'),\n",
        "                    ('SA', 'V'),('Q', 'NSW'),\n",
        "                    ('V', 'T')]:\n",
        "    csp.constraints.append(binary_constraint((var1, var2), violations))\n",
        "\n",
        "csp.constraints.append(unary_constraint('WA', ('green', 'blue')))\n",
        "\n",
        "asmt = csp.init_assignment()\n",
        "result = recursive_backtracking(csp, asmt)\n",
        "print(result)"
      ]
    },
    {
      "cell_type": "code",
      "execution_count": null,
      "metadata": {},
      "outputs": [],
      "source": [
        "# scrape the following website using beautiful soup\n",
        "# https://web.archive.org/web/20231017142951/https://exrx.net/Lists/ExList/ForeArmWt\n",
        "\n",
        "import requests\n",
        "from bs4 import BeautifulSoup\n",
        "\n",
        "url = 'https://web.archive.org/web/20231017142951/https://exrx.net/Lists/ExList/ForeArmWt'\n",
        "response = requests.get(url)\n",
        "\n",
        "soup = BeautifulSoup(response.text, 'html.parser')\n",
        "\n",
        "# save the html to a file\n",
        "\n",
        "with open('exrx.html', 'w') as f:\n",
        "    f.write(soup.prettify())\n",
        "\n",
        "# read the html file into a pandas dataframe"
      ]
    }
  ],
  "metadata": {
    "colab": {
      "provenance": []
    },
    "kernelspec": {
      "display_name": "base",
      "language": "python",
      "name": "python3"
    },
    "language_info": {
      "codemirror_mode": {
        "name": "ipython",
        "version": 3
      },
      "file_extension": ".py",
      "mimetype": "text/x-python",
      "name": "python",
      "nbconvert_exporter": "python",
      "pygments_lexer": "ipython3",
      "version": "3.11.3"
    }
  },
  "nbformat": 4,
  "nbformat_minor": 0
}
